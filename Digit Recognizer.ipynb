{
 "cells": [
  {
   "cell_type": "code",
   "execution_count": 1,
   "metadata": {},
   "outputs": [],
   "source": [
    "import pandas as pd \n",
    "train_df = pd.read_csv('../data/kaggle/Digit Recognizer/train.csv')\n",
    "test_df = pd.read_csv('../data/kaggle/Digit Recognizer/test.csv')\n",
    "\n",
    "np.random.shuffle(train_df.values)\n",
    "np.random.shuffle(test_df.values)"
   ]
  },
  {
   "cell_type": "code",
   "execution_count": 2,
   "metadata": {},
   "outputs": [],
   "source": [
    "y_train = train_df.label\n",
    "x_train = train_df.drop('label',axis=1)\n"
   ]
  },
  {
   "cell_type": "code",
   "execution_count": 3,
   "metadata": {},
   "outputs": [],
   "source": [
    "import numpy as np\n",
    "y_train = np.array(y_train)\n",
    "x_train = np.array(x_train)\n",
    "x_test = np.array(test_df)"
   ]
  },
  {
   "cell_type": "code",
   "execution_count": 4,
   "metadata": {},
   "outputs": [
    {
     "name": "stderr",
     "output_type": "stream",
     "text": [
      "/usr/local/lib/python3.6/dist-packages/tensorflow/python/framework/dtypes.py:516: FutureWarning: Passing (type, 1) or '1type' as a synonym of type is deprecated; in a future version of numpy, it will be understood as (type, (1,)) / '(1,)type'.\n",
      "  _np_qint8 = np.dtype([(\"qint8\", np.int8, 1)])\n",
      "/usr/local/lib/python3.6/dist-packages/tensorflow/python/framework/dtypes.py:517: FutureWarning: Passing (type, 1) or '1type' as a synonym of type is deprecated; in a future version of numpy, it will be understood as (type, (1,)) / '(1,)type'.\n",
      "  _np_quint8 = np.dtype([(\"quint8\", np.uint8, 1)])\n",
      "/usr/local/lib/python3.6/dist-packages/tensorflow/python/framework/dtypes.py:518: FutureWarning: Passing (type, 1) or '1type' as a synonym of type is deprecated; in a future version of numpy, it will be understood as (type, (1,)) / '(1,)type'.\n",
      "  _np_qint16 = np.dtype([(\"qint16\", np.int16, 1)])\n",
      "/usr/local/lib/python3.6/dist-packages/tensorflow/python/framework/dtypes.py:519: FutureWarning: Passing (type, 1) or '1type' as a synonym of type is deprecated; in a future version of numpy, it will be understood as (type, (1,)) / '(1,)type'.\n",
      "  _np_quint16 = np.dtype([(\"quint16\", np.uint16, 1)])\n",
      "/usr/local/lib/python3.6/dist-packages/tensorflow/python/framework/dtypes.py:520: FutureWarning: Passing (type, 1) or '1type' as a synonym of type is deprecated; in a future version of numpy, it will be understood as (type, (1,)) / '(1,)type'.\n",
      "  _np_qint32 = np.dtype([(\"qint32\", np.int32, 1)])\n",
      "/usr/local/lib/python3.6/dist-packages/tensorflow/python/framework/dtypes.py:525: FutureWarning: Passing (type, 1) or '1type' as a synonym of type is deprecated; in a future version of numpy, it will be understood as (type, (1,)) / '(1,)type'.\n",
      "  np_resource = np.dtype([(\"resource\", np.ubyte, 1)])\n",
      "/usr/local/lib/python3.6/dist-packages/tensorboard/compat/tensorflow_stub/dtypes.py:541: FutureWarning: Passing (type, 1) or '1type' as a synonym of type is deprecated; in a future version of numpy, it will be understood as (type, (1,)) / '(1,)type'.\n",
      "  _np_qint8 = np.dtype([(\"qint8\", np.int8, 1)])\n",
      "/usr/local/lib/python3.6/dist-packages/tensorboard/compat/tensorflow_stub/dtypes.py:542: FutureWarning: Passing (type, 1) or '1type' as a synonym of type is deprecated; in a future version of numpy, it will be understood as (type, (1,)) / '(1,)type'.\n",
      "  _np_quint8 = np.dtype([(\"quint8\", np.uint8, 1)])\n",
      "/usr/local/lib/python3.6/dist-packages/tensorboard/compat/tensorflow_stub/dtypes.py:543: FutureWarning: Passing (type, 1) or '1type' as a synonym of type is deprecated; in a future version of numpy, it will be understood as (type, (1,)) / '(1,)type'.\n",
      "  _np_qint16 = np.dtype([(\"qint16\", np.int16, 1)])\n",
      "/usr/local/lib/python3.6/dist-packages/tensorboard/compat/tensorflow_stub/dtypes.py:544: FutureWarning: Passing (type, 1) or '1type' as a synonym of type is deprecated; in a future version of numpy, it will be understood as (type, (1,)) / '(1,)type'.\n",
      "  _np_quint16 = np.dtype([(\"quint16\", np.uint16, 1)])\n",
      "/usr/local/lib/python3.6/dist-packages/tensorboard/compat/tensorflow_stub/dtypes.py:545: FutureWarning: Passing (type, 1) or '1type' as a synonym of type is deprecated; in a future version of numpy, it will be understood as (type, (1,)) / '(1,)type'.\n",
      "  _np_qint32 = np.dtype([(\"qint32\", np.int32, 1)])\n",
      "/usr/local/lib/python3.6/dist-packages/tensorboard/compat/tensorflow_stub/dtypes.py:550: FutureWarning: Passing (type, 1) or '1type' as a synonym of type is deprecated; in a future version of numpy, it will be understood as (type, (1,)) / '(1,)type'.\n",
      "  np_resource = np.dtype([(\"resource\", np.ubyte, 1)])\n",
      "Using TensorFlow backend.\n"
     ]
    }
   ],
   "source": [
    "import tensorflow as tf\n",
    "from keras.utils import np_utils\n",
    "x_train, x_test = x_train / 255.0, x_test / 255.0\n",
    "y =  np_utils.to_categorical(y_train, num_classes=10)"
   ]
  },
  {
   "cell_type": "code",
   "execution_count": 5,
   "metadata": {},
   "outputs": [
    {
     "name": "stdout",
     "output_type": "stream",
     "text": [
      "WARNING:tensorflow:From /usr/local/lib/python3.6/dist-packages/tensorflow/python/ops/init_ops.py:1251: calling VarianceScaling.__init__ (from tensorflow.python.ops.init_ops) with dtype is deprecated and will be removed in a future version.\n",
      "Instructions for updating:\n",
      "Call initializer instance with the dtype argument instead of passing it to the constructor\n"
     ]
    }
   ],
   "source": [
    "from tensorflow.keras import datasets, layers, models\n",
    "model = models.Sequential()\n",
    "model.add(layers.Conv2D(32,kernel_size=3 , strides=(1, 1),kernel_initializer = 'he_normal',input_shape=(28, 28,1)))\n",
    "model.add(layers.BatchNormalization())\n",
    "model.add(layers.Activation('relu'))\n",
    "model.add(layers.MaxPool2D(pool_size = (2,2)))\n",
    "\n",
    "\n",
    "model.add(layers.Conv2D(64,kernel_size=2 , strides=(1, 1),kernel_initializer = 'he_normal'))\n",
    "model.add(layers.BatchNormalization())\n",
    "model.add(layers.Activation('relu'))\n",
    "model.add(layers.MaxPool2D(pool_size = (2,2)))\n",
    "\n",
    "#model.add(layers.Conv2D(128,kernel_size=3 , strides=(1, 1),kernel_initializer = 'he_normal'))\n",
    "#model.add(layers.BatchNormalization())\n",
    "#model.add(layers.Activation('relu'))\n",
    "\n",
    "model.add(layers.Flatten())\n",
    "\n",
    "model.add(layers.Dense(3686))\n",
    "model.add(layers.BatchNormalization())\n",
    "model.add(layers.Activation('relu'))\n",
    "\n",
    "model.add(layers.Dense(10, activation='softmax'))\n",
    "\n",
    "\n",
    "model.compile(optimizer='adam',\n",
    "              loss='sparse_categorical_crossentropy',\n",
    "              metrics=['accuracy'])\n",
    "#LeNet5\n",
    "# 0.97857  --ep = 5  CNN\n",
    "# 0.98242  --ep = 20 CNN \n",
    "# 0.97128  --ep = 20 CNN + dropout\n",
    "# 0.985    --ep = 5 CNN"
   ]
  },
  {
   "cell_type": "code",
   "execution_count": 6,
   "metadata": {},
   "outputs": [
    {
     "name": "stdout",
     "output_type": "stream",
     "text": [
      "Model: \"sequential\"\n",
      "_________________________________________________________________\n",
      "Layer (type)                 Output Shape              Param #   \n",
      "=================================================================\n",
      "conv2d (Conv2D)              (None, 26, 26, 32)        320       \n",
      "_________________________________________________________________\n",
      "batch_normalization (BatchNo (None, 26, 26, 32)        128       \n",
      "_________________________________________________________________\n",
      "activation (Activation)      (None, 26, 26, 32)        0         \n",
      "_________________________________________________________________\n",
      "max_pooling2d (MaxPooling2D) (None, 13, 13, 32)        0         \n",
      "_________________________________________________________________\n",
      "conv2d_1 (Conv2D)            (None, 12, 12, 64)        8256      \n",
      "_________________________________________________________________\n",
      "batch_normalization_1 (Batch (None, 12, 12, 64)        256       \n",
      "_________________________________________________________________\n",
      "activation_1 (Activation)    (None, 12, 12, 64)        0         \n",
      "_________________________________________________________________\n",
      "max_pooling2d_1 (MaxPooling2 (None, 6, 6, 64)          0         \n",
      "_________________________________________________________________\n",
      "flatten (Flatten)            (None, 2304)              0         \n",
      "_________________________________________________________________\n",
      "dense (Dense)                (None, 3686)              8496230   \n",
      "_________________________________________________________________\n",
      "batch_normalization_2 (Batch (None, 3686)              14744     \n",
      "_________________________________________________________________\n",
      "activation_2 (Activation)    (None, 3686)              0         \n",
      "_________________________________________________________________\n",
      "dense_1 (Dense)              (None, 10)                36870     \n",
      "=================================================================\n",
      "Total params: 8,556,804\n",
      "Trainable params: 8,549,240\n",
      "Non-trainable params: 7,564\n",
      "_________________________________________________________________\n"
     ]
    }
   ],
   "source": [
    "model.summary()"
   ]
  },
  {
   "cell_type": "code",
   "execution_count": 7,
   "metadata": {},
   "outputs": [
    {
     "name": "stdout",
     "output_type": "stream",
     "text": [
      "Train on 37800 samples, validate on 4200 samples\n",
      "Epoch 1/5\n",
      "37800/37800 [==============================] - 82s 2ms/sample - loss: 0.1940 - acc: 0.9531 - val_loss: 0.0714 - val_acc: 0.9810\n",
      "Epoch 2/5\n",
      "37800/37800 [==============================] - 82s 2ms/sample - loss: 0.0741 - acc: 0.9797 - val_loss: 0.0531 - val_acc: 0.9874\n",
      "Epoch 3/5\n",
      "37800/37800 [==============================] - 82s 2ms/sample - loss: 0.0632 - acc: 0.9833 - val_loss: 0.1013 - val_acc: 0.9745\n",
      "Epoch 4/5\n",
      "37800/37800 [==============================] - 82s 2ms/sample - loss: 0.0444 - acc: 0.9880 - val_loss: 0.0649 - val_acc: 0.9869\n",
      "Epoch 5/5\n",
      "37800/37800 [==============================] - 82s 2ms/sample - loss: 0.0432 - acc: 0.9883 - val_loss: 0.0531 - val_acc: 0.9869\n"
     ]
    },
    {
     "data": {
      "text/plain": [
       "<tensorflow.python.keras.callbacks.History at 0x7f9c5f86edd8>"
      ]
     },
     "execution_count": 7,
     "metadata": {},
     "output_type": "execute_result"
    }
   ],
   "source": [
    "x = np.reshape(x_train , (42000,28,28))\n",
    "x = np.expand_dims(x, axis=-1)\n",
    "model_args = dict(\n",
    "    epochs=5,validation_split=0.1,batch_size = 32,\n",
    "    \n",
    ")\n",
    "model.fit(x, y_train, **model_args)"
   ]
  },
  {
   "cell_type": "code",
   "execution_count": 8,
   "metadata": {},
   "outputs": [
    {
     "name": "stdout",
     "output_type": "stream",
     "text": [
      "42000/42000 - 13s - loss: 0.0185 - acc: 0.9942\n"
     ]
    }
   ],
   "source": [
    "model.evaluate(x,  y_train, verbose=2)\n",
    "x_test = np.reshape(x_test , (28000,28,28))\n",
    "x_test = np.expand_dims(x_test ,  axis=-1)\n",
    "y_test = model.predict(x_test)\n",
    "y_test = np.argmax(y_test, axis=1)"
   ]
  },
  {
   "cell_type": "code",
   "execution_count": 1,
   "metadata": {
    "collapsed": true
   },
   "outputs": [
    {
     "ename": "NameError",
     "evalue": "name 'y_test' is not defined",
     "output_type": "error",
     "traceback": [
      "\u001b[0;31m---------------------------------------------------------------------------\u001b[0m",
      "\u001b[0;31mNameError\u001b[0m                                 Traceback (most recent call last)",
      "\u001b[0;32m<ipython-input-1-f62ba6e2e027>\u001b[0m in \u001b[0;36m<module>\u001b[0;34m\u001b[0m\n\u001b[1;32m      4\u001b[0m   \u001b[0mwriter\u001b[0m \u001b[0;34m=\u001b[0m \u001b[0mcsv\u001b[0m\u001b[0;34m.\u001b[0m\u001b[0mwriter\u001b[0m\u001b[0;34m(\u001b[0m\u001b[0mcsvfile\u001b[0m\u001b[0;34m)\u001b[0m\u001b[0;34m\u001b[0m\u001b[0;34m\u001b[0m\u001b[0m\n\u001b[1;32m      5\u001b[0m   \u001b[0mwriter\u001b[0m\u001b[0;34m.\u001b[0m\u001b[0mwriterow\u001b[0m\u001b[0;34m(\u001b[0m\u001b[0;34m[\u001b[0m\u001b[0;34m'ImageId'\u001b[0m\u001b[0;34m,\u001b[0m\u001b[0;34m'Label'\u001b[0m\u001b[0;34m]\u001b[0m\u001b[0;34m)\u001b[0m\u001b[0;34m\u001b[0m\u001b[0;34m\u001b[0m\u001b[0m\n\u001b[0;32m----> 6\u001b[0;31m   \u001b[0;32mfor\u001b[0m \u001b[0mr\u001b[0m \u001b[0;32min\u001b[0m \u001b[0mrange\u001b[0m\u001b[0;34m(\u001b[0m\u001b[0mlen\u001b[0m\u001b[0;34m(\u001b[0m\u001b[0my_test\u001b[0m\u001b[0;34m)\u001b[0m\u001b[0;34m)\u001b[0m\u001b[0;34m:\u001b[0m\u001b[0;34m\u001b[0m\u001b[0;34m\u001b[0m\u001b[0m\n\u001b[0m\u001b[1;32m      7\u001b[0m     \u001b[0mwriter\u001b[0m\u001b[0;34m.\u001b[0m\u001b[0mwriterow\u001b[0m\u001b[0;34m(\u001b[0m\u001b[0;34m[\u001b[0m\u001b[0mstr\u001b[0m\u001b[0;34m(\u001b[0m\u001b[0mr\u001b[0m\u001b[0;34m+\u001b[0m\u001b[0;36m1\u001b[0m\u001b[0;34m)\u001b[0m\u001b[0;34m,\u001b[0m\u001b[0mstr\u001b[0m\u001b[0;34m(\u001b[0m\u001b[0my_test\u001b[0m\u001b[0;34m[\u001b[0m\u001b[0mr\u001b[0m\u001b[0;34m]\u001b[0m\u001b[0;34m)\u001b[0m\u001b[0;34m]\u001b[0m\u001b[0;34m)\u001b[0m\u001b[0;34m\u001b[0m\u001b[0;34m\u001b[0m\u001b[0m\n",
      "\u001b[0;31mNameError\u001b[0m: name 'y_test' is not defined"
     ]
    }
   ],
   "source": [
    "import csv\n",
    "with open('../data/kaggle/Digit Recognizer/DesignCNN_ep20.csv', 'w', newline='') as csvfile:\n",
    "  # 建立 CSV 檔寫入器\n",
    "  writer = csv.writer(csvfile)\n",
    "  writer.writerow(['ImageId','Label'])\n",
    "  for r in range(len(y_test)):\n",
    "    writer.writerow([str(r+1),str(y_test[r])])\n"
   ]
  },
  {
   "cell_type": "code",
   "execution_count": 3,
   "metadata": {},
   "outputs": [],
   "source": [
    "import pandas as pd\n",
    "import numpy as np\n",
    "import matplotlib.pyplot as plt\n",
    "import seaborn as sns\n",
    "from keras import models\n",
    "from keras import layers\n",
    "from keras.utils.np_utils import to_categorical\n",
    "from sklearn.model_selection import train_test_split"
   ]
  },
  {
   "cell_type": "code",
   "execution_count": 4,
   "metadata": {},
   "outputs": [
    {
     "name": "stdout",
     "output_type": "stream",
     "text": [
      "(42000, 785)\n",
      "(28000, 784)\n"
     ]
    }
   ],
   "source": [
    "train = pd.read_csv('../data/kaggle/Digit Recognizer/train.csv')\n",
    "test = pd.read_csv('../data/kaggle/Digit Recognizer/test.csv')\n",
    "sample_submission = pd.read_csv('../data/kaggle/Digit Recognizer/sample_submission.csv')\n",
    "print(train.shape)\n",
    "print(test.shape)\n",
    "x_train = train.iloc[:,1:786]\n",
    "y_train = train.iloc[:,0]\n"
   ]
  },
  {
   "cell_type": "code",
   "execution_count": 5,
   "metadata": {},
   "outputs": [],
   "source": [
    "network = models.Sequential()\n",
    "network.add(layers.Dense(784 , activation = 'relu' , input_shape = (28*28,)))\n",
    "network.add(layers.Dense(784 , activation = 'relu' , input_shape = (28*28,)))\n",
    "network.add(layers.Dense(10 , activation = 'softmax'))\n",
    "\n",
    "network.compile(optimizer='adam' ,\n",
    "                loss = 'categorical_crossentropy' ,\n",
    "                metrics = ['accuracy'])"
   ]
  },
  {
   "cell_type": "code",
   "execution_count": 6,
   "metadata": {},
   "outputs": [],
   "source": [
    "x_train = x_train.values.reshape((42000,28*28))   #42000 are images\n",
    "x_train = x_train.astype('float32') /255\n",
    "test = test.values.reshape((28000,28*28))     #28000 are images \n",
    "test = test.astype('float32') /255"
   ]
  },
  {
   "cell_type": "code",
   "execution_count": 7,
   "metadata": {},
   "outputs": [
    {
     "name": "stdout",
     "output_type": "stream",
     "text": [
      "(28000, 784)\n",
      "(42000, 10)\n",
      "(42000, 784)\n"
     ]
    }
   ],
   "source": [
    "y_train = to_categorical(y_train)\n",
    "print(test.shape)\n",
    "print(y_train.shape)\n",
    "print(x_train.shape)\n",
    "X_train, X_val, Y_train, Y_val = train_test_split(x_train, y_train, test_size = 0.1, random_state=4)"
   ]
  },
  {
   "cell_type": "code",
   "execution_count": 8,
   "metadata": {},
   "outputs": [
    {
     "name": "stdout",
     "output_type": "stream",
     "text": [
      "WARNING:tensorflow:From /usr/local/lib/python3.6/dist-packages/keras/backend/tensorflow_backend.py:422: The name tf.global_variables is deprecated. Please use tf.compat.v1.global_variables instead.\n",
      "\n",
      "Epoch 1/100\n",
      "42000/42000 [==============================] - 6s 138us/step - loss: 0.2322 - accuracy: 0.9287\n",
      "Epoch 2/100\n",
      "42000/42000 [==============================] - 6s 137us/step - loss: 0.0857 - accuracy: 0.9726\n",
      "Epoch 3/100\n",
      "42000/42000 [==============================] - 6s 137us/step - loss: 0.0507 - accuracy: 0.9836\n",
      "Epoch 4/100\n",
      "42000/42000 [==============================] - 6s 136us/step - loss: 0.0342 - accuracy: 0.9893\n",
      "Epoch 5/100\n",
      "42000/42000 [==============================] - 6s 136us/step - loss: 0.0256 - accuracy: 0.9912\n",
      "Epoch 6/100\n",
      "42000/42000 [==============================] - 6s 137us/step - loss: 0.0209 - accuracy: 0.9931\n",
      "Epoch 7/100\n",
      "42000/42000 [==============================] - 6s 136us/step - loss: 0.0194 - accuracy: 0.9935\n",
      "Epoch 8/100\n",
      "42000/42000 [==============================] - 6s 137us/step - loss: 0.0164 - accuracy: 0.9944\n",
      "Epoch 9/100\n",
      "42000/42000 [==============================] - 6s 136us/step - loss: 0.0136 - accuracy: 0.9953\n",
      "Epoch 10/100\n",
      "42000/42000 [==============================] - 6s 137us/step - loss: 0.0174 - accuracy: 0.9945\n",
      "Epoch 11/100\n",
      "42000/42000 [==============================] - 6s 136us/step - loss: 0.0154 - accuracy: 0.9948\n",
      "Epoch 12/100\n",
      "42000/42000 [==============================] - 6s 136us/step - loss: 0.0113 - accuracy: 0.9957\n",
      "Epoch 13/100\n",
      "42000/42000 [==============================] - 6s 137us/step - loss: 0.0092 - accuracy: 0.9971\n",
      "Epoch 14/100\n",
      "42000/42000 [==============================] - 6s 136us/step - loss: 0.0100 - accuracy: 0.9968\n",
      "Epoch 15/100\n",
      "42000/42000 [==============================] - 6s 137us/step - loss: 0.0158 - accuracy: 0.9950\n",
      "Epoch 16/100\n",
      "42000/42000 [==============================] - 6s 137us/step - loss: 0.0120 - accuracy: 0.9957\n",
      "Epoch 17/100\n",
      "42000/42000 [==============================] - 6s 137us/step - loss: 0.0071 - accuracy: 0.9978\n",
      "Epoch 18/100\n",
      "42000/42000 [==============================] - 6s 136us/step - loss: 0.0059 - accuracy: 0.9981\n",
      "Epoch 19/100\n",
      "42000/42000 [==============================] - 6s 136us/step - loss: 0.0046 - accuracy: 0.9983\n",
      "Epoch 20/100\n",
      "42000/42000 [==============================] - 6s 136us/step - loss: 0.0139 - accuracy: 0.9956\n",
      "Epoch 21/100\n",
      "42000/42000 [==============================] - 6s 137us/step - loss: 0.0063 - accuracy: 0.9980\n",
      "Epoch 22/100\n",
      "42000/42000 [==============================] - 6s 137us/step - loss: 0.0082 - accuracy: 0.9976\n",
      "Epoch 23/100\n",
      "42000/42000 [==============================] - 6s 137us/step - loss: 0.0059 - accuracy: 0.9981\n",
      "Epoch 24/100\n",
      "42000/42000 [==============================] - 6s 136us/step - loss: 0.0041 - accuracy: 0.9988\n",
      "Epoch 25/100\n",
      "42000/42000 [==============================] - 6s 136us/step - loss: 0.0102 - accuracy: 0.9967\n",
      "Epoch 26/100\n",
      "42000/42000 [==============================] - 6s 137us/step - loss: 0.0099 - accuracy: 0.9974\n",
      "Epoch 27/100\n",
      "42000/42000 [==============================] - 6s 137us/step - loss: 0.0079 - accuracy: 0.9978\n",
      "Epoch 28/100\n",
      "42000/42000 [==============================] - 6s 137us/step - loss: 0.0038 - accuracy: 0.9989\n",
      "Epoch 29/100\n",
      "42000/42000 [==============================] - 6s 136us/step - loss: 0.0028 - accuracy: 0.9991\n",
      "Epoch 30/100\n",
      "42000/42000 [==============================] - 6s 137us/step - loss: 0.0123 - accuracy: 0.9967\n",
      "Epoch 31/100\n",
      "42000/42000 [==============================] - 6s 137us/step - loss: 0.0064 - accuracy: 0.9980\n",
      "Epoch 32/100\n",
      "42000/42000 [==============================] - 6s 137us/step - loss: 0.0066 - accuracy: 0.9983\n",
      "Epoch 33/100\n",
      "42000/42000 [==============================] - 6s 136us/step - loss: 0.0076 - accuracy: 0.9976\n",
      "Epoch 34/100\n",
      "42000/42000 [==============================] - 6s 136us/step - loss: 0.0076 - accuracy: 0.9982\n",
      "Epoch 35/100\n",
      "42000/42000 [==============================] - 6s 136us/step - loss: 0.0021 - accuracy: 0.9994\n",
      "Epoch 36/100\n",
      "42000/42000 [==============================] - 6s 136us/step - loss: 0.0017 - accuracy: 0.9996\n",
      "Epoch 37/100\n",
      "42000/42000 [==============================] - 6s 136us/step - loss: 0.0060 - accuracy: 0.9984\n",
      "Epoch 38/100\n",
      "42000/42000 [==============================] - 6s 136us/step - loss: 0.0113 - accuracy: 0.9965\n",
      "Epoch 39/100\n",
      "42000/42000 [==============================] - 6s 136us/step - loss: 0.0084 - accuracy: 0.9973\n",
      "Epoch 40/100\n",
      "42000/42000 [==============================] - 6s 137us/step - loss: 0.0069 - accuracy: 0.9980\n",
      "Epoch 41/100\n",
      "42000/42000 [==============================] - 6s 136us/step - loss: 0.0031 - accuracy: 0.9992\n",
      "Epoch 42/100\n",
      "42000/42000 [==============================] - 6s 136us/step - loss: 0.0048 - accuracy: 0.9987\n",
      "Epoch 43/100\n",
      "42000/42000 [==============================] - 6s 136us/step - loss: 0.0057 - accuracy: 0.9987\n",
      "Epoch 44/100\n",
      "42000/42000 [==============================] - 6s 136us/step - loss: 0.0012 - accuracy: 0.9997\n",
      "Epoch 45/100\n",
      "42000/42000 [==============================] - 6s 136us/step - loss: 0.0012 - accuracy: 0.9995\n",
      "Epoch 46/100\n",
      "42000/42000 [==============================] - 6s 137us/step - loss: 0.0034 - accuracy: 0.9991\n",
      "Epoch 47/100\n",
      "42000/42000 [==============================] - 6s 137us/step - loss: 0.0058 - accuracy: 0.9987\n",
      "Epoch 48/100\n",
      "42000/42000 [==============================] - 6s 137us/step - loss: 0.0045 - accuracy: 0.9985\n",
      "Epoch 49/100\n",
      "42000/42000 [==============================] - 6s 136us/step - loss: 0.0075 - accuracy: 0.9983\n",
      "Epoch 50/100\n",
      "42000/42000 [==============================] - 6s 137us/step - loss: 0.0033 - accuracy: 0.9993\n",
      "Epoch 51/100\n",
      "42000/42000 [==============================] - 6s 136us/step - loss: 0.0018 - accuracy: 0.9995\n",
      "Epoch 52/100\n",
      "42000/42000 [==============================] - 6s 137us/step - loss: 0.0033 - accuracy: 0.9991\n",
      "Epoch 53/100\n",
      "42000/42000 [==============================] - 6s 137us/step - loss: 0.0065 - accuracy: 0.9986\n",
      "Epoch 54/100\n",
      "42000/42000 [==============================] - 6s 137us/step - loss: 0.0081 - accuracy: 0.9983\n",
      "Epoch 55/100\n",
      "42000/42000 [==============================] - 6s 136us/step - loss: 0.0048 - accuracy: 0.9989\n",
      "Epoch 56/100\n",
      "42000/42000 [==============================] - 6s 136us/step - loss: 0.0029 - accuracy: 0.9992\n",
      "Epoch 57/100\n",
      "42000/42000 [==============================] - 6s 136us/step - loss: 0.0025 - accuracy: 0.9991\n",
      "Epoch 58/100\n",
      "42000/42000 [==============================] - 6s 137us/step - loss: 0.0058 - accuracy: 0.9985\n",
      "Epoch 59/100\n",
      "42000/42000 [==============================] - 6s 137us/step - loss: 0.0045 - accuracy: 0.9987\n",
      "Epoch 60/100\n",
      "42000/42000 [==============================] - 6s 136us/step - loss: 0.0062 - accuracy: 0.9987\n",
      "Epoch 61/100\n",
      "42000/42000 [==============================] - 6s 137us/step - loss: 0.0046 - accuracy: 0.9989\n",
      "Epoch 62/100\n",
      "42000/42000 [==============================] - 6s 136us/step - loss: 0.0011 - accuracy: 0.9997\n",
      "Epoch 63/100\n",
      "42000/42000 [==============================] - 6s 137us/step - loss: 1.1222e-04 - accuracy: 1.0000\n",
      "Epoch 64/100\n",
      "42000/42000 [==============================] - 6s 136us/step - loss: 5.6624e-06 - accuracy: 1.0000\n",
      "Epoch 65/100\n",
      "42000/42000 [==============================] - 6s 137us/step - loss: 3.7664e-06 - accuracy: 1.0000\n",
      "Epoch 66/100\n",
      "42000/42000 [==============================] - 6s 137us/step - loss: 2.5509e-06 - accuracy: 1.0000\n",
      "Epoch 67/100\n",
      "42000/42000 [==============================] - 6s 137us/step - loss: 1.1830e-06 - accuracy: 1.0000\n",
      "Epoch 68/100\n",
      "42000/42000 [==============================] - 6s 137us/step - loss: 5.4212e-07 - accuracy: 1.0000\n",
      "Epoch 69/100\n",
      "42000/42000 [==============================] - 6s 137us/step - loss: 2.9444e-07 - accuracy: 1.0000\n",
      "Epoch 70/100\n",
      "42000/42000 [==============================] - 6s 137us/step - loss: 1.8155e-07 - accuracy: 1.0000\n",
      "Epoch 71/100\n",
      "42000/42000 [==============================] - 6s 137us/step - loss: 1.3108e-07 - accuracy: 1.0000\n",
      "Epoch 72/100\n",
      "42000/42000 [==============================] - 6s 137us/step - loss: 9.5848e-08 - accuracy: 1.0000\n",
      "Epoch 73/100\n",
      "42000/42000 [==============================] - 6s 137us/step - loss: 7.3821e-08 - accuracy: 1.0000\n",
      "Epoch 74/100\n"
     ]
    },
    {
     "name": "stdout",
     "output_type": "stream",
     "text": [
      "42000/42000 [==============================] - 6s 137us/step - loss: 6.0941e-08 - accuracy: 1.0000\n",
      "Epoch 75/100\n",
      "42000/42000 [==============================] - 6s 137us/step - loss: 4.8248e-08 - accuracy: 1.0000\n",
      "Epoch 76/100\n",
      "42000/42000 [==============================] - 6s 136us/step - loss: 4.1964e-08 - accuracy: 1.0000\n",
      "Epoch 77/100\n",
      "18176/42000 [===========>..................] - ETA: 3s - loss: 3.4557e-08 - accuracy: 1.0000"
     ]
    },
    {
     "name": "stderr",
     "output_type": "stream",
     "text": [
      "ERROR:root:Internal Python error in the inspect module.\n",
      "Below is the traceback from this internal error.\n",
      "\n"
     ]
    },
    {
     "name": "stdout",
     "output_type": "stream",
     "text": [
      "Traceback (most recent call last):\n",
      "  File \"/usr/local/lib/python3.6/dist-packages/IPython/core/interactiveshell.py\", line 3331, in run_code\n",
      "    exec(code_obj, self.user_global_ns, self.user_ns)\n",
      "  File \"<ipython-input-8-17db67a2c83a>\", line 1, in <module>\n",
      "    network.fit(x_train , y_train , epochs = 100 , batch_size = 128)\n",
      "  File \"/usr/local/lib/python3.6/dist-packages/keras/engine/training.py\", line 1239, in fit\n",
      "    validation_freq=validation_freq)\n",
      "  File \"/usr/local/lib/python3.6/dist-packages/keras/engine/training_arrays.py\", line 196, in fit_loop\n",
      "    outs = fit_function(ins_batch)\n",
      "  File \"/usr/local/lib/python3.6/dist-packages/tensorflow/python/keras/backend.py\", line 3292, in __call__\n",
      "    run_metadata=self.run_metadata)\n",
      "  File \"/usr/local/lib/python3.6/dist-packages/tensorflow/python/client/session.py\", line 1458, in __call__\n",
      "    run_metadata_ptr)\n",
      "KeyboardInterrupt\n",
      "\n",
      "During handling of the above exception, another exception occurred:\n",
      "\n",
      "Traceback (most recent call last):\n",
      "  File \"/usr/local/lib/python3.6/dist-packages/IPython/core/interactiveshell.py\", line 2044, in showtraceback\n",
      "    stb = value._render_traceback_()\n",
      "AttributeError: 'KeyboardInterrupt' object has no attribute '_render_traceback_'\n",
      "\n",
      "During handling of the above exception, another exception occurred:\n",
      "\n",
      "Traceback (most recent call last):\n",
      "  File \"/usr/local/lib/python3.6/dist-packages/IPython/core/ultratb.py\", line 1148, in get_records\n",
      "    return _fixed_getinnerframes(etb, number_of_lines_of_context, tb_offset)\n",
      "  File \"/usr/local/lib/python3.6/dist-packages/IPython/core/ultratb.py\", line 316, in wrapped\n",
      "    return f(*args, **kwargs)\n",
      "  File \"/usr/local/lib/python3.6/dist-packages/IPython/core/ultratb.py\", line 350, in _fixed_getinnerframes\n",
      "    records = fix_frame_records_filenames(inspect.getinnerframes(etb, context))\n",
      "  File \"/usr/lib/python3.6/inspect.py\", line 1490, in getinnerframes\n",
      "    frameinfo = (tb.tb_frame,) + getframeinfo(tb, context)\n",
      "  File \"/usr/lib/python3.6/inspect.py\", line 1448, in getframeinfo\n",
      "    filename = getsourcefile(frame) or getfile(frame)\n",
      "  File \"/usr/lib/python3.6/inspect.py\", line 696, in getsourcefile\n",
      "    if getattr(getmodule(object, filename), '__loader__', None) is not None:\n",
      "  File \"/usr/lib/python3.6/inspect.py\", line 742, in getmodule\n",
      "    os.path.realpath(f)] = module.__name__\n",
      "  File \"/usr/lib/python3.6/posixpath.py\", line 395, in realpath\n",
      "    path, ok = _joinrealpath(filename[:0], filename, {})\n",
      "  File \"/usr/lib/python3.6/posixpath.py\", line 410, in _joinrealpath\n",
      "    if isabs(rest):\n",
      "  File \"/usr/lib/python3.6/posixpath.py\", line 68, in isabs\n",
      "    return s.startswith(sep)\n",
      "KeyboardInterrupt\n"
     ]
    },
    {
     "ename": "KeyboardInterrupt",
     "evalue": "",
     "output_type": "error",
     "traceback": [
      "\u001b[0;31m---------------------------------------------------------------------------\u001b[0m"
     ]
    }
   ],
   "source": [
    "network.fit(x_train , y_train , epochs = 100 , batch_size = 128)"
   ]
  },
  {
   "cell_type": "code",
   "execution_count": 9,
   "metadata": {},
   "outputs": [
    {
     "name": "stdout",
     "output_type": "stream",
     "text": [
      "4200/4200 [==============================] - 0s 75us/step\n",
      "Accuracy: 100.0 % Loss: 2.8411339280797253e-06\n"
     ]
    }
   ],
   "source": [
    "test_loss , test_acc = network.evaluate(X_val , Y_val)\n",
    "print(\"Accuracy:\", test_acc *100,'%', 'Loss:', test_loss *100)"
   ]
  },
  {
   "cell_type": "code",
   "execution_count": 11,
   "metadata": {},
   "outputs": [],
   "source": [
    "results = network.predict(test)\n",
    "results = np.argmax(results,axis = 1)\n",
    "results = pd.Series(results,name=\"Label\")"
   ]
  },
  {
   "cell_type": "code",
   "execution_count": 13,
   "metadata": {},
   "outputs": [
    {
     "data": {
      "text/plain": [
       "0        2\n",
       "1        0\n",
       "2        9\n",
       "3        9\n",
       "4        3\n",
       "        ..\n",
       "27995    9\n",
       "27996    7\n",
       "27997    3\n",
       "27998    9\n",
       "27999    2\n",
       "Name: Label, Length: 28000, dtype: int64"
      ]
     },
     "execution_count": 13,
     "metadata": {},
     "output_type": "execute_result"
    }
   ],
   "source": [
    "results"
   ]
  },
  {
   "cell_type": "code",
   "execution_count": 30,
   "metadata": {},
   "outputs": [],
   "source": [
    "Final_results = sample_submission\n",
    "Final_results['Label'] = results\n",
    "Final_results.head()\n",
    "Final_results.to_csv('../data/kaggle/Digit Recognizer/sample_submission.csv', index=False)"
   ]
  },
  {
   "cell_type": "code",
   "execution_count": 28,
   "metadata": {},
   "outputs": [],
   "source": [
    "from sklearn.metrics import confusion_matrix\n",
    "\n",
    "cm = confusion_matrix(y_true=np.argmax(Y_val, axis=1), y_pred=np.argmax(network.predict(X_val), axis=1))"
   ]
  },
  {
   "cell_type": "code",
   "execution_count": 29,
   "metadata": {},
   "outputs": [
    {
     "data": {
      "text/plain": [
       "<matplotlib.axes._subplots.AxesSubplot at 0x7fd83038b908>"
      ]
     },
     "execution_count": 29,
     "metadata": {},
     "output_type": "execute_result"
    },
    {
     "data": {
      "image/png": "[encoded data removed]",
      "text/plain": [
       "<Figure size 720x504 with 2 Axes>"
      ]
     },
     "metadata": {
      "needs_background": "light"
     },
     "output_type": "display_data"
    }
   ],
   "source": [
    "cm_df = pd.DataFrame(cm)\n",
    "\n",
    "plt.figure(figsize=(10, 7))\n",
    "sns.heatmap(data=cm_df, cmap=plt.cm.Blues, center=0.5, annot=True, fmt='.0f', linewidths=.3)"
   ]
  },
  {
   "cell_type": "code",
   "execution_count": null,
   "metadata": {},
   "outputs": [],
   "source": []
  }
 ],
 "metadata": {
  "kernelspec": {
   "display_name": "yuan-env",
   "language": "python",
   "name": "yuan-env"
  },
  "language_info": {
   "codemirror_mode": {
    "name": "ipython",
    "version": 3
   },
   "file_extension": ".py",
   "mimetype": "text/x-python",
   "name": "python",
   "nbconvert_exporter": "python",
   "pygments_lexer": "ipython3",
   "version": "3.6.9"
  },
  "toc": {
   "base_numbering": 1,
   "nav_menu": {},
   "number_sections": true,
   "sideBar": true,
   "skip_h1_title": false,
   "title_cell": "Table of Contents",
   "title_sidebar": "Contents",
   "toc_cell": false,
   "toc_position": {},
   "toc_section_display": true,
   "toc_window_display": false
  },
  "varInspector": {
   "cols": {
    "lenName": 16,
    "lenType": 16,
    "lenVar": 40
   },
   "kernels_config": {
    "python": {
     "delete_cmd_postfix": "",
     "delete_cmd_prefix": "del ",
     "library": "var_list.py",
     "varRefreshCmd": "print(var_dic_list())"
    },
    "r": {
     "delete_cmd_postfix": ") ",
     "delete_cmd_prefix": "rm(",
     "library": "var_list.r",
     "varRefreshCmd": "cat(var_dic_list()) "
    }
   },
   "types_to_exclude": [
    "module",
    "function",
    "builtin_function_or_method",
    "instance",
    "_Feature"
   ],
   "window_display": false
  }
 },
 "nbformat": 4,
 "nbformat_minor": 2
}
